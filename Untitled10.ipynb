{
 "cells": [
  {
   "cell_type": "code",
   "execution_count": 1,
   "id": "e133489d",
   "metadata": {},
   "outputs": [
    {
     "name": "stdout",
     "output_type": "stream",
     "text": [
      "\n",
      "Total number of accounts per type:\n",
      "{'payment': 74967, 'deposit': 75067, 'invoice': 75026, 'withdrawal': 74940}\n",
      "\n",
      "Total amount per account type:\n",
      "{'payment': 37416335.2400001, 'deposit': 37408897.579999864, 'invoice': 37592715.8599999, 'withdrawal': 37275679.66000025}\n"
     ]
    }
   ],
   "source": [
    "import json\n",
    "from collections import defaultdict\n",
    "\n",
    "file_path = r'C:\\Users\\91970\\Downloads\\data_001\\data_00.json'\n",
    "\n",
    "# Try reading the file line by line\n",
    "data = []\n",
    "with open(file_path, 'r') as f:\n",
    "    for line in f:\n",
    "        try:\n",
    "            data.append(json.loads(line))\n",
    "        except json.JSONDecodeError as e:\n",
    "            print(f\"Error decoding JSON: {e}\")\n",
    "\n",
    "# Initialize dictionaries to store the counts and totals\n",
    "account_counts = defaultdict(int)  # To store total number of accounts per type\n",
    "account_totals = defaultdict(float)  # To store total amount per account type\n",
    "\n",
    "# Process each user and their accountHistory\n",
    "for user in data:\n",
    "    account_history = user.get('accountHistory', [])\n",
    "    for account in account_history:\n",
    "        acc_type = account.get('type')  # 'type' seems to be the account type\n",
    "        amount = float(account.get('amount', 0))  # Convert amount to float\n",
    "        if acc_type:\n",
    "            account_counts[acc_type] += 1  # Increment the count for this account type\n",
    "            account_totals[acc_type] += amount  # Add the amount for this account type\n",
    "\n",
    "# Display the results\n",
    "print(\"\\nTotal number of accounts per type:\")\n",
    "print(dict(account_counts))  # Convert to regular dictionary for nicer output\n",
    "\n",
    "print(\"\\nTotal amount per account type:\")\n",
    "print(dict(account_totals))\n"
   ]
  },
  {
   "cell_type": "code",
   "execution_count": null,
   "id": "23018575",
   "metadata": {},
   "outputs": [],
   "source": []
  }
 ],
 "metadata": {
  "kernelspec": {
   "display_name": "Python 3 (ipykernel)",
   "language": "python",
   "name": "python3"
  },
  "language_info": {
   "codemirror_mode": {
    "name": "ipython",
    "version": 3
   },
   "file_extension": ".py",
   "mimetype": "text/x-python",
   "name": "python",
   "nbconvert_exporter": "python",
   "pygments_lexer": "ipython3",
   "version": "3.11.4"
  }
 },
 "nbformat": 4,
 "nbformat_minor": 5
}
